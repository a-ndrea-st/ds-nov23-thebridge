{
 "cells": [
  {
   "cell_type": "code",
   "execution_count": 1,
   "metadata": {},
   "outputs": [
    {
     "name": "stdout",
     "output_type": "stream",
     "text": [
      "<Response [200]>\n",
      "{\n",
      "  \"author\": \"Samuel R. Delany\",\n",
      "  \"first_sentence\": \"to wound the autumnal city.\",\n",
      "  \"id\": 2,\n",
      "  \"published\": \"1975\",\n",
      "  \"title\": \"Dhalgren\"\n",
      "}\n",
      "\n"
     ]
    }
   ],
   "source": [
    "import requests\n",
    "\n",
    "root_path = \"http://127.0.0.1:5000\"\n",
    "\n",
    "path = \"/api/v2/resources/book\"\n",
    "\n",
    "content = {'id': 2}\n",
    "response = requests.get(url = root_path + path, json = content)\n",
    "print(response)\n",
    "print(response.text)"
   ]
  },
  {
   "cell_type": "code",
   "execution_count": 4,
   "metadata": {},
   "outputs": [
    {
     "name": "stdout",
     "output_type": "stream",
     "text": [
      "<Response [200]>\n",
      "{\n",
      "  \"author\": \"Elsa\",\n",
      "  \"first_sentence\": \"En un lugar\",\n",
      "  \"id\": 3,\n",
      "  \"published\": \"2023\",\n",
      "  \"title\": \"DS23\"\n",
      "}\n",
      "\n"
     ]
    }
   ],
   "source": [
    "contenido = {\"author\": \"Elsa\",\n",
    "             \"first_sentence\": \"En un lugar\",\n",
    "             \"id\": 3,\n",
    "             \"published\": \"2023\",\n",
    "             \"title\": \"DS23\"\n",
    "             }\n",
    "respuesta = requests.post(url=\"http://127.0.0.1:5000/api/v1/resources/book\", json = contenido)\n",
    "print(respuesta)\n",
    "print(respuesta.text)"
   ]
  },
  {
   "cell_type": "code",
   "execution_count": 5,
   "metadata": {},
   "outputs": [
    {
     "name": "stdout",
     "output_type": "stream",
     "text": [
      "<Response [200]>\n",
      "{\n",
      "  \"author\": \"Elsa\",\n",
      "  \"first_sentence\": \"En un lugar\",\n",
      "  \"id\": 4,\n",
      "  \"published\": \"2023\",\n",
      "  \"title\": \"DS24\"\n",
      "}\n",
      "\n"
     ]
    }
   ],
   "source": [
    "contenido = {\"author\": \"Elsa\",\n",
    "             \"first_sentence\": \"En un lugar\",\n",
    "             \"id\": 4,\n",
    "             \"published\": \"2023\",\n",
    "             \"title\": \"DS24\"\n",
    "             }\n",
    "respuesta = requests.post(url=\"http://localhost:5000/api/v1/resources/book\", json = contenido)\n",
    "print(respuesta)\n",
    "print(respuesta.text)"
   ]
  }
 ],
 "metadata": {
  "kernelspec": {
   "display_name": "Python 3",
   "language": "python",
   "name": "python3"
  },
  "language_info": {
   "codemirror_mode": {
    "name": "ipython",
    "version": 3
   },
   "file_extension": ".py",
   "mimetype": "text/x-python",
   "name": "python",
   "nbconvert_exporter": "python",
   "pygments_lexer": "ipython3",
   "version": "3.11.3"
  }
 },
 "nbformat": 4,
 "nbformat_minor": 2
}
