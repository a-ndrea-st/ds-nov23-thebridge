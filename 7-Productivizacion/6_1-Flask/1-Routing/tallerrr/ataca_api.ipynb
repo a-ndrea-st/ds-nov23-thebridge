{
 "cells": [
  {
   "cell_type": "code",
   "execution_count": 8,
   "metadata": {},
   "outputs": [],
   "source": [
    "import requests\n"
   ]
  },
  {
   "cell_type": "code",
   "execution_count": 42,
   "metadata": {},
   "outputs": [
    {
     "name": "stdout",
     "output_type": "stream",
     "text": [
      "<Response [200]>\n",
      "{\n",
      "  \"author\": \"Vernor Vinge\",\n",
      "  \"first_sentence\": \"The coldsleep itself was dreamless.\",\n",
      "  \"id\": 0,\n",
      "  \"published\": \"1992\",\n",
      "  \"title\": \"A Fire Upon the Deep\"\n",
      "}\n",
      "\n"
     ]
    }
   ],
   "source": [
    "root_path= \"http://127.0.0.1:5000\"\n",
    "\n",
    "path= \"/api/v2/resources/book\"\n",
    "\n",
    "content= {\"id\" :0}\n",
    "\n",
    "response= requests.get(url=root_path+path , json= content)\n",
    "\n",
    "print(response)\n",
    "print(response.text)"
   ]
  },
  {
   "cell_type": "markdown",
   "metadata": {},
   "source": [
    "Para poner un libro"
   ]
  },
  {
   "cell_type": "code",
   "execution_count": 43,
   "metadata": {},
   "outputs": [
    {
     "name": "stdout",
     "output_type": "stream",
     "text": [
      "<Response [200]>\n"
     ]
    }
   ],
   "source": [
    "contenido = {\"author\": \"Andrea\",\n",
    "             \"first_sentence\": \"En un lugar...\",\n",
    "             \"id\": 3,\n",
    "             \"published\": \"2001\",\n",
    "             \"title\": \"Libro maravilla\"}\n",
    "\n",
    "respuesta= requests.post(url=\"http://localhost:5000/api/v1/resources/book\", json=contenido)\n",
    "print(respuesta)"
   ]
  },
  {
   "cell_type": "code",
   "execution_count": null,
   "metadata": {},
   "outputs": [],
   "source": []
  }
 ],
 "metadata": {
  "kernelspec": {
   "display_name": "Python 3",
   "language": "python",
   "name": "python3"
  },
  "language_info": {
   "codemirror_mode": {
    "name": "ipython",
    "version": 3
   },
   "file_extension": ".py",
   "mimetype": "text/x-python",
   "name": "python",
   "nbconvert_exporter": "python",
   "pygments_lexer": "ipython3",
   "version": "3.11.5"
  }
 },
 "nbformat": 4,
 "nbformat_minor": 2
}
