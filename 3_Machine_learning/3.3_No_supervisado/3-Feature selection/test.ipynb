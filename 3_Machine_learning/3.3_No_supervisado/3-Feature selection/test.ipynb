{
 "cells": [
  {
   "cell_type": "code",
   "execution_count": 42,
   "id": "9dad191e-d968-4c0d-b329-7cb2ff444961",
   "metadata": {},
   "outputs": [
    {
     "data": {
      "text/plain": [
       "array([[ 0.,  0., -1., -1.,  0.,  0.,  0.,  0.,  0.,  1.],\n",
       "       [ 0.,  0.,  0., -1., -1.,  0.,  0.,  0.,  0.,  0.]])"
      ]
     },
     "execution_count": 42,
     "metadata": {},
     "output_type": "execute_result"
    }
   ],
   "source": [
    "from sklearn.feature_extraction import FeatureHasher\n",
    "h = FeatureHasher(n_features=10, input_type=\"string\")\n",
    "D = [{'dog': 1, 'cat':2, 'elephant':4},{'dog': 2, 'run': 5}]\n",
    "f = h.transform(D)\n",
    "f.toarray()\n"
   ]
  },
  {
   "cell_type": "code",
   "execution_count": 3,
   "id": "45948552-e105-42c1-a3fb-b33e9fd348be",
   "metadata": {},
   "outputs": [
    {
     "data": {
      "text/html": [
       "<div>\n",
       "<style scoped>\n",
       "    .dataframe tbody tr th:only-of-type {\n",
       "        vertical-align: middle;\n",
       "    }\n",
       "\n",
       "    .dataframe tbody tr th {\n",
       "        vertical-align: top;\n",
       "    }\n",
       "\n",
       "    .dataframe thead th {\n",
       "        text-align: right;\n",
       "    }\n",
       "</style>\n",
       "<table border=\"1\" class=\"dataframe\">\n",
       "  <thead>\n",
       "    <tr style=\"text-align: right;\">\n",
       "      <th></th>\n",
       "      <th>color</th>\n",
       "      <th>color2</th>\n",
       "      <th>num</th>\n",
       "    </tr>\n",
       "  </thead>\n",
       "  <tbody>\n",
       "    <tr>\n",
       "      <th>0</th>\n",
       "      <td>r</td>\n",
       "      <td>ar</td>\n",
       "      <td>0</td>\n",
       "    </tr>\n",
       "    <tr>\n",
       "      <th>1</th>\n",
       "      <td>r</td>\n",
       "      <td>ra</td>\n",
       "      <td>1</td>\n",
       "    </tr>\n",
       "    <tr>\n",
       "      <th>2</th>\n",
       "      <td>v</td>\n",
       "      <td>av</td>\n",
       "      <td>2</td>\n",
       "    </tr>\n",
       "    <tr>\n",
       "      <th>3</th>\n",
       "      <td>a</td>\n",
       "      <td>ba</td>\n",
       "      <td>3</td>\n",
       "    </tr>\n",
       "    <tr>\n",
       "      <th>4</th>\n",
       "      <td>e</td>\n",
       "      <td>be</td>\n",
       "      <td>4</td>\n",
       "    </tr>\n",
       "    <tr>\n",
       "      <th>5</th>\n",
       "      <td>t</td>\n",
       "      <td>bt</td>\n",
       "      <td>5</td>\n",
       "    </tr>\n",
       "    <tr>\n",
       "      <th>6</th>\n",
       "      <td>y</td>\n",
       "      <td>ay</td>\n",
       "      <td>6</td>\n",
       "    </tr>\n",
       "    <tr>\n",
       "      <th>7</th>\n",
       "      <td>u</td>\n",
       "      <td>u</td>\n",
       "      <td>7</td>\n",
       "    </tr>\n",
       "    <tr>\n",
       "      <th>8</th>\n",
       "      <td>i</td>\n",
       "      <td>ri</td>\n",
       "      <td>8</td>\n",
       "    </tr>\n",
       "    <tr>\n",
       "      <th>9</th>\n",
       "      <td>o</td>\n",
       "      <td>ko</td>\n",
       "      <td>9</td>\n",
       "    </tr>\n",
       "    <tr>\n",
       "      <th>10</th>\n",
       "      <td>p</td>\n",
       "      <td>p</td>\n",
       "      <td>10</td>\n",
       "    </tr>\n",
       "  </tbody>\n",
       "</table>\n",
       "</div>"
      ],
      "text/plain": [
       "   color color2  num\n",
       "0      r     ar    0\n",
       "1      r     ra    1\n",
       "2      v     av    2\n",
       "3      a     ba    3\n",
       "4      e     be    4\n",
       "5      t     bt    5\n",
       "6      y     ay    6\n",
       "7      u      u    7\n",
       "8      i     ri    8\n",
       "9      o     ko    9\n",
       "10     p      p   10"
      ]
     },
     "execution_count": 3,
     "metadata": {},
     "output_type": "execute_result"
    }
   ],
   "source": [
    "import pandas as pd\n",
    "df = pd.DataFrame()\n",
    "df['color'] = ['r', 'r', 'v', 'a', 'e','t','y','u','i','o','p']\n",
    "df['color2'] = ['ar', 'ra', 'av', 'ba', 'be','bt','ay','u','ri','ko','p']\n",
    "df['num']= range(11)\n",
    "df"
   ]
  },
  {
   "cell_type": "code",
   "execution_count": 24,
   "id": "58c88d17-c7f8-4255-b2a2-4c446b546125",
   "metadata": {},
   "outputs": [
    {
     "data": {
      "text/plain": [
       "{'color': 0     r\n",
       " 1     r\n",
       " 2     v\n",
       " 3     a\n",
       " 4     e\n",
       " 5     t\n",
       " 6     y\n",
       " 7     u\n",
       " 8     i\n",
       " 9     o\n",
       " 10    p\n",
       " Name: color, dtype: object,\n",
       " 'color2': 0     ar\n",
       " 1     ra\n",
       " 2     av\n",
       " 3     ba\n",
       " 4     be\n",
       " 5     bt\n",
       " 6     ay\n",
       " 7      u\n",
       " 8     ri\n",
       " 9     ko\n",
       " 10     p\n",
       " Name: color2, dtype: object,\n",
       " 'num': 0      0\n",
       " 1      1\n",
       " 2      2\n",
       " 3      3\n",
       " 4      4\n",
       " 5      5\n",
       " 6      6\n",
       " 7      7\n",
       " 8      8\n",
       " 9      9\n",
       " 10    10\n",
       " Name: num, dtype: int64}"
      ]
     },
     "execution_count": 24,
     "metadata": {},
     "output_type": "execute_result"
    }
   ],
   "source": [
    "dict(dict(df).items())\n",
    "{ d: dict(df)[d] for d in dict(df) }"
   ]
  },
  {
   "cell_type": "code",
   "execution_count": 39,
   "id": "74c81ac7-9738-4972-8f77-abe67996a517",
   "metadata": {},
   "outputs": [
    {
     "data": {
      "text/plain": [
       "[['r', 'r', 'v', 'a', 'e', 't', 'y', 'u', 'i', 'o', 'p'],\n",
       " ['ar', 'ra', 'av', 'ba', 'be', 'bt', 'ay', 'u', 'ri', 'ko', 'p']]"
      ]
     },
     "execution_count": 39,
     "metadata": {},
     "output_type": "execute_result"
    }
   ],
   "source": [
    "data = [list(df.color), list(df.color2)]\n",
    "data"
   ]
  },
  {
   "cell_type": "code",
   "execution_count": 43,
   "id": "ab6c4557-63ad-48e6-84d6-6e31d89593ad",
   "metadata": {},
   "outputs": [
    {
     "data": {
      "text/plain": [
       "array([[ 1., -1.,  1.,  0.,  1.,  2., -1.,  0.,  0.,  0.],\n",
       "       [-1.,  2.,  1.,  0.,  1., -1., -2., -1.,  0.,  0.]])"
      ]
     },
     "execution_count": 43,
     "metadata": {},
     "output_type": "execute_result"
    }
   ],
   "source": [
    "f = h.transform(data)\n",
    "f.toarray()"
   ]
  }
 ],
 "metadata": {
  "kernelspec": {
   "display_name": "Python 3 (ipykernel)",
   "language": "python",
   "name": "python3"
  },
  "language_info": {
   "codemirror_mode": {
    "name": "ipython",
    "version": 3
   },
   "file_extension": ".py",
   "mimetype": "text/x-python",
   "name": "python",
   "nbconvert_exporter": "python",
   "pygments_lexer": "ipython3",
   "version": "3.11.8"
  }
 },
 "nbformat": 4,
 "nbformat_minor": 5
}
