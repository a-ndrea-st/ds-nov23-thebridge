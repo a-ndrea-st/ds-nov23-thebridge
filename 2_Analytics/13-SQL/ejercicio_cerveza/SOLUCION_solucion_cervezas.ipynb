{
 "cells": [
  {
   "cell_type": "code",
   "execution_count": 1,
   "id": "21fa3423-535c-48ff-ad17-0fe561779f7d",
   "metadata": {},
   "outputs": [],
   "source": [
    "import pandas as pd\n",
    "import sqlite3"
   ]
  },
  {
   "cell_type": "code",
   "execution_count": 2,
   "id": "9fe60d26-ac2e-4c7c-88af-7e5625c8a70a",
   "metadata": {},
   "outputs": [],
   "source": [
    "# conectamos con la base de datos my_database.db\n",
    "connection = sqlite3.connect(\"my_database.db\")\n",
    "\n",
    "# obtenemos un cursor que utilizamos para las queries\n",
    "crsr = connection.cursor()\n"
   ]
  },
  {
   "cell_type": "code",
   "execution_count": 4,
   "id": "48a7224a-6f92-41ac-9c71-4e579e7d68bf",
   "metadata": {},
   "outputs": [],
   "source": [
    "# Con esta función leemos los datos y lo pasamos a un DataFrame de Pandas\n",
    "def sql_query(query):\n",
    "\n",
    "    # Ejecuta la query\n",
    "    crsr.execute(query)\n",
    "\n",
    "    # Almacena los datos de la query \n",
    "    ans = crsr.fetchall()\n",
    "\n",
    "    # Obtenemos los nombres de las columnas de la tabla\n",
    "    names = [description[0] for description in crsr.description]\n",
    "\n",
    "    return pd.DataFrame(ans,columns=names)"
   ]
  },
  {
   "cell_type": "code",
   "execution_count": 5,
   "id": "7414bb6b-33e0-4b9b-be2a-e9c6812b12ff",
   "metadata": {},
   "outputs": [],
   "source": [
    "res = crsr.execute(\"SELECT name FROM sqlite_master WHERE type='table'\")\n",
    "for name in res:\n",
    "    print(name[0])"
   ]
  },
  {
   "cell_type": "code",
   "execution_count": 7,
   "id": "0d653c8e-21ea-49a2-8c78-04e7c89d183a",
   "metadata": {},
   "outputs": [
    {
     "data": {
      "text/plain": [
       "<sqlite3.Cursor at 0x25fe4e825e0>"
      ]
     },
     "execution_count": 7,
     "metadata": {},
     "output_type": "execute_result"
    }
   ],
   "source": [
    "query = '''\n",
    "CREATE TABLE IF NOT EXISTS reparto (\n",
    "\tCodE VARCHAR(2) NOT NULL,\n",
    "\tCodB VARCHAR(3) NOT NULL,\n",
    "\tCodC VARCHAR(2) NOT NULL,\n",
    "\tFecha DATE NOT NULL,\n",
    "\tCantidad SMALLINT,\n",
    "\tPRIMARY KEY (CodE,CodB,CodC,fecha)\n",
    ");\n",
    "'''\n",
    "crsr.execute(query)"
   ]
  },
  {
   "cell_type": "code",
   "execution_count": 8,
   "id": "a710861e-d72c-479f-8535-4f053d99c209",
   "metadata": {},
   "outputs": [
    {
     "name": "stdout",
     "output_type": "stream",
     "text": [
      "reparto\n"
     ]
    }
   ],
   "source": [
    "res = crsr.execute(\"SELECT name FROM sqlite_master WHERE type='table'\")\n",
    "for name in res:\n",
    "    print(name[0])"
   ]
  },
  {
   "cell_type": "code",
   "execution_count": 9,
   "id": "b7645636-44ef-4929-b0b2-62b8a24978a8",
   "metadata": {},
   "outputs": [
    {
     "data": {
      "text/plain": [
       "<sqlite3.Cursor at 0x25fe4e825e0>"
      ]
     },
     "execution_count": 9,
     "metadata": {},
     "output_type": "execute_result"
    }
   ],
   "source": [
    "query = '''\n",
    "CREATE TABLE IF NOT EXISTS cervezas (\n",
    "    CodC VARCHAR(2),\n",
    "    Envase VARCHAR(32),\n",
    "    Capacidad FLOAT(2),\n",
    "    Stock INT(5),\n",
    "    PRIMARY KEY (CodC)\n",
    ")\n",
    "'''\n",
    "\n",
    "crsr.execute(query)"
   ]
  },
  {
   "cell_type": "code",
   "execution_count": 10,
   "id": "9b761194-1037-47cd-b615-52d5be6bb6a1",
   "metadata": {},
   "outputs": [
    {
     "data": {
      "text/plain": [
       "<sqlite3.Cursor at 0x25fe4e825e0>"
      ]
     },
     "execution_count": 10,
     "metadata": {},
     "output_type": "execute_result"
    }
   ],
   "source": [
    "query = '''\n",
    "CREATE TABLE IF NOT EXISTS bares (\n",
    "    CodB VARCHAR(2),\n",
    "    Nombre VARCHAR(32),\n",
    "    Cif VARCHAR(32),\n",
    "    Localidad VARCHAR(32),\n",
    "    PRIMARY KEY (CodB)\n",
    ")\n",
    "'''\n",
    "\n",
    "crsr.execute(query)"
   ]
  },
  {
   "cell_type": "code",
   "execution_count": 11,
   "id": "55ac1ba2-c8ca-4f7d-af0e-6e1b51c72295",
   "metadata": {},
   "outputs": [
    {
     "data": {
      "text/plain": [
       "<sqlite3.Cursor at 0x25fe4e825e0>"
      ]
     },
     "execution_count": 11,
     "metadata": {},
     "output_type": "execute_result"
    }
   ],
   "source": [
    "query = '''\n",
    "CREATE TABLE IF NOT EXISTS empleados (\n",
    "    CodE VARCHAR(2),\n",
    "    Nombre VARCHAR(32),\n",
    "    Sueldo INT(5),\n",
    "    PRIMARY KEY (CodE)\n",
    ")\n",
    "'''\n",
    "\n",
    "crsr.execute(query)\n"
   ]
  },
  {
   "cell_type": "code",
   "execution_count": 12,
   "id": "aed4f5d5-8a78-497f-b95d-1ce281ef74c7",
   "metadata": {},
   "outputs": [
    {
     "data": {
      "text/plain": [
       "<sqlite3.Cursor at 0x25fe4e825e0>"
      ]
     },
     "execution_count": 12,
     "metadata": {},
     "output_type": "execute_result"
    }
   ],
   "source": [
    "query = '''\n",
    "INSERT OR REPLACE INTO empleados VALUES ('1','Prudencio Caminero',120000),\n",
    "('2', 'Vicente Merario', 110000),\n",
    "('3', 'Valentin Siempre', 100000)\n",
    "'''\n",
    "# CRUD Create Register(insert) Update Delete\n",
    "crsr.execute(query)"
   ]
  },
  {
   "cell_type": "code",
   "execution_count": 13,
   "id": "c9e845b6-1057-47ab-a4c2-839afce73a91",
   "metadata": {},
   "outputs": [
    {
     "data": {
      "text/plain": [
       "<sqlite3.Cursor at 0x25fe4e825e0>"
      ]
     },
     "execution_count": 13,
     "metadata": {},
     "output_type": "execute_result"
    }
   ],
   "source": [
    "query = '''\n",
    "INSERT INTO reparto (CodE, CodB, CodC, Fecha, Cantidad) \n",
    "VALUES  ('1','001','01','2005-10-21',240 ),\n",
    "( '1','001','02','2005-10-21',48 ),\n",
    "( '1','002','03','2005-10-22',60 ),\n",
    "( '1','004','05','2005-10-22',4 ),\n",
    "( '2','002','03','2005-10-22',48 ),\n",
    "( '2','002','05','2005-10-23',2 ),\n",
    "( '2','004','01','2005-10-23',480 ),\n",
    "( '2','004','02','2005-10-24',72 ),\n",
    "( '3','003','03','2005-10-24',48 ),\n",
    "( '3','003','04','2005-10-25',20 )\n",
    ";\n",
    "'''\n",
    "crsr.execute(query)"
   ]
  },
  {
   "cell_type": "code",
   "execution_count": 14,
   "id": "58b324fa-06a2-4ae6-a2c8-ae910c7d5664",
   "metadata": {},
   "outputs": [
    {
     "data": {
      "text/plain": [
       "<sqlite3.Cursor at 0x25fe4e825e0>"
      ]
     },
     "execution_count": 14,
     "metadata": {},
     "output_type": "execute_result"
    }
   ],
   "source": [
    "query = '''\n",
    "INSERT OR REPLACE INTO bares VALUES ('001','Stop', '11111111X','Villa Botijo'),\n",
    "('002', 'Las Vegas', '22222222Y', 'Villa Botijo'),\n",
    "('003', 'Club Social', NULL, 'Las Ranas'),\n",
    "('004','Otra Ronda','33333333Z','La Esponja')\n",
    "'''\n",
    "crsr.execute(query)"
   ]
  },
  {
   "cell_type": "code",
   "execution_count": 15,
   "id": "5fad6d0a-0e8c-49ac-b59b-53f9348fa0f6",
   "metadata": {},
   "outputs": [
    {
     "data": {
      "text/plain": [
       "<sqlite3.Cursor at 0x25fe4e825e0>"
      ]
     },
     "execution_count": 15,
     "metadata": {},
     "output_type": "execute_result"
    }
   ],
   "source": [
    "query = '''\n",
    "INSERT OR IGNORE INTO Cervezas VALUES ('01','Botella',0.2,3600),\n",
    "('02', 'Botella', 0.33, 1200),\n",
    "('03', 'Lata', 0.33, 2400),\n",
    "('04','Botella',1,288),\n",
    "('05','Barril',60,30)\n",
    "'''\n",
    "crsr.execute(query)"
   ]
  },
  {
   "cell_type": "code",
   "execution_count": 16,
   "id": "f5871f64-791f-4595-be6f-6c9c0d53c80c",
   "metadata": {},
   "outputs": [
    {
     "data": {
      "text/html": [
       "<div>\n",
       "<style scoped>\n",
       "    .dataframe tbody tr th:only-of-type {\n",
       "        vertical-align: middle;\n",
       "    }\n",
       "\n",
       "    .dataframe tbody tr th {\n",
       "        vertical-align: top;\n",
       "    }\n",
       "\n",
       "    .dataframe thead th {\n",
       "        text-align: right;\n",
       "    }\n",
       "</style>\n",
       "<table border=\"1\" class=\"dataframe\">\n",
       "  <thead>\n",
       "    <tr style=\"text-align: right;\">\n",
       "      <th></th>\n",
       "      <th>CodE</th>\n",
       "      <th>CodB</th>\n",
       "      <th>CodC</th>\n",
       "      <th>Fecha</th>\n",
       "      <th>Cantidad</th>\n",
       "    </tr>\n",
       "  </thead>\n",
       "  <tbody>\n",
       "    <tr>\n",
       "      <th>0</th>\n",
       "      <td>1</td>\n",
       "      <td>001</td>\n",
       "      <td>01</td>\n",
       "      <td>2005-10-21</td>\n",
       "      <td>240</td>\n",
       "    </tr>\n",
       "    <tr>\n",
       "      <th>1</th>\n",
       "      <td>1</td>\n",
       "      <td>001</td>\n",
       "      <td>02</td>\n",
       "      <td>2005-10-21</td>\n",
       "      <td>48</td>\n",
       "    </tr>\n",
       "    <tr>\n",
       "      <th>2</th>\n",
       "      <td>1</td>\n",
       "      <td>002</td>\n",
       "      <td>03</td>\n",
       "      <td>2005-10-22</td>\n",
       "      <td>60</td>\n",
       "    </tr>\n",
       "    <tr>\n",
       "      <th>3</th>\n",
       "      <td>1</td>\n",
       "      <td>004</td>\n",
       "      <td>05</td>\n",
       "      <td>2005-10-22</td>\n",
       "      <td>4</td>\n",
       "    </tr>\n",
       "    <tr>\n",
       "      <th>4</th>\n",
       "      <td>2</td>\n",
       "      <td>002</td>\n",
       "      <td>03</td>\n",
       "      <td>2005-10-22</td>\n",
       "      <td>48</td>\n",
       "    </tr>\n",
       "    <tr>\n",
       "      <th>5</th>\n",
       "      <td>2</td>\n",
       "      <td>002</td>\n",
       "      <td>05</td>\n",
       "      <td>2005-10-23</td>\n",
       "      <td>2</td>\n",
       "    </tr>\n",
       "    <tr>\n",
       "      <th>6</th>\n",
       "      <td>2</td>\n",
       "      <td>004</td>\n",
       "      <td>01</td>\n",
       "      <td>2005-10-23</td>\n",
       "      <td>480</td>\n",
       "    </tr>\n",
       "    <tr>\n",
       "      <th>7</th>\n",
       "      <td>2</td>\n",
       "      <td>004</td>\n",
       "      <td>02</td>\n",
       "      <td>2005-10-24</td>\n",
       "      <td>72</td>\n",
       "    </tr>\n",
       "    <tr>\n",
       "      <th>8</th>\n",
       "      <td>3</td>\n",
       "      <td>003</td>\n",
       "      <td>03</td>\n",
       "      <td>2005-10-24</td>\n",
       "      <td>48</td>\n",
       "    </tr>\n",
       "    <tr>\n",
       "      <th>9</th>\n",
       "      <td>3</td>\n",
       "      <td>003</td>\n",
       "      <td>04</td>\n",
       "      <td>2005-10-25</td>\n",
       "      <td>20</td>\n",
       "    </tr>\n",
       "  </tbody>\n",
       "</table>\n",
       "</div>"
      ],
      "text/plain": [
       "  CodE CodB CodC       Fecha  Cantidad\n",
       "0    1  001   01  2005-10-21       240\n",
       "1    1  001   02  2005-10-21        48\n",
       "2    1  002   03  2005-10-22        60\n",
       "3    1  004   05  2005-10-22         4\n",
       "4    2  002   03  2005-10-22        48\n",
       "5    2  002   05  2005-10-23         2\n",
       "6    2  004   01  2005-10-23       480\n",
       "7    2  004   02  2005-10-24        72\n",
       "8    3  003   03  2005-10-24        48\n",
       "9    3  003   04  2005-10-25        20"
      ]
     },
     "execution_count": 16,
     "metadata": {},
     "output_type": "execute_result"
    }
   ],
   "source": [
    "query = '''\n",
    "SELECT * FROM reparto \n",
    "'''\n",
    "sql_query(query)"
   ]
  },
  {
   "cell_type": "code",
   "execution_count": 29,
   "id": "2ee631fd-0712-4a3b-852e-e80adcc9e06b",
   "metadata": {},
   "outputs": [
    {
     "data": {
      "text/html": [
       "<div>\n",
       "<style scoped>\n",
       "    .dataframe tbody tr th:only-of-type {\n",
       "        vertical-align: middle;\n",
       "    }\n",
       "\n",
       "    .dataframe tbody tr th {\n",
       "        vertical-align: top;\n",
       "    }\n",
       "\n",
       "    .dataframe thead th {\n",
       "        text-align: right;\n",
       "    }\n",
       "</style>\n",
       "<table border=\"1\" class=\"dataframe\">\n",
       "  <thead>\n",
       "    <tr style=\"text-align: right;\">\n",
       "      <th></th>\n",
       "      <th>Nombre</th>\n",
       "    </tr>\n",
       "  </thead>\n",
       "  <tbody>\n",
       "    <tr>\n",
       "      <th>0</th>\n",
       "      <td>Prudencio Caminero</td>\n",
       "    </tr>\n",
       "  </tbody>\n",
       "</table>\n",
       "</div>"
      ],
      "text/plain": [
       "               Nombre\n",
       "0  Prudencio Caminero"
      ]
     },
     "execution_count": 29,
     "metadata": {},
     "output_type": "execute_result"
    }
   ],
   "source": [
    "# 1 Obtener el nombre de los empleados que hayan repartido al bar Stop durante la semana \n",
    "# del 17 al 23 de octubre de 2005.\n",
    "\n",
    "query = '''\n",
    "SELECT DISTINCT empleados.Nombre\n",
    "FROM empleados\n",
    "INNER JOIN reparto\n",
    "ON empleados.CodE = reparto.CodE\n",
    "INNER JOIN bares\n",
    "ON bares.CodB = reparto.CodB\n",
    "WHERE bares.nombre = 'Stop' AND reparto.Fecha BETWEEN '17/10/2005' AND '23/10/2005'\n",
    "'''\n",
    "\n",
    "sql_query(query)\n"
   ]
  },
  {
   "cell_type": "code",
   "execution_count": null,
   "id": "ad5fa98a-947b-4c19-a049-488074242cb7",
   "metadata": {},
   "outputs": [
    {
     "data": {
      "text/html": [
       "<div>\n",
       "<style scoped>\n",
       "    .dataframe tbody tr th:only-of-type {\n",
       "        vertical-align: middle;\n",
       "    }\n",
       "\n",
       "    .dataframe tbody tr th {\n",
       "        vertical-align: top;\n",
       "    }\n",
       "\n",
       "    .dataframe thead th {\n",
       "        text-align: right;\n",
       "    }\n",
       "</style>\n",
       "<table border=\"1\" class=\"dataframe\">\n",
       "  <thead>\n",
       "    <tr style=\"text-align: right;\">\n",
       "      <th></th>\n",
       "      <th>Cif</th>\n",
       "      <th>Nombre</th>\n",
       "    </tr>\n",
       "  </thead>\n",
       "  <tbody>\n",
       "    <tr>\n",
       "      <th>0</th>\n",
       "      <td>33333333Z</td>\n",
       "      <td>Otra Ronda</td>\n",
       "    </tr>\n",
       "    <tr>\n",
       "      <th>1</th>\n",
       "      <td>11111111X</td>\n",
       "      <td>Stop</td>\n",
       "    </tr>\n",
       "  </tbody>\n",
       "</table>\n",
       "</div>"
      ],
      "text/plain": [
       "         Cif      Nombre\n",
       "0  33333333Z  Otra Ronda\n",
       "1  11111111X        Stop"
      ]
     },
     "execution_count": 30,
     "metadata": {},
     "output_type": "execute_result"
    }
   ],
   "source": [
    "#2\n",
    "query = '''\n",
    "SELECT DISTINCT\n",
    "bares.Cif,\n",
    "bares.nombre\n",
    "FROM bares\n",
    "INNER JOIN reparto \n",
    "ON bares.CodB = reparto.CodB \n",
    "INNER JOIN cervezas\n",
    "ON reparto.CodC = cervezas.CodC\n",
    "WHERE cervezas.envase = 'Botella' and cervezas.Capacidad < 1\n",
    "ORDER BY bares.Localidad\n",
    "'''\n",
    "sql_query(query)"
   ]
  },
  {
   "cell_type": "code",
   "execution_count": 31,
   "id": "decae038-7948-40ba-b9e3-5c150153b640",
   "metadata": {},
   "outputs": [
    {
     "data": {
      "text/html": [
       "<div>\n",
       "<style scoped>\n",
       "    .dataframe tbody tr th:only-of-type {\n",
       "        vertical-align: middle;\n",
       "    }\n",
       "\n",
       "    .dataframe tbody tr th {\n",
       "        vertical-align: top;\n",
       "    }\n",
       "\n",
       "    .dataframe thead th {\n",
       "        text-align: right;\n",
       "    }\n",
       "</style>\n",
       "<table border=\"1\" class=\"dataframe\">\n",
       "  <thead>\n",
       "    <tr style=\"text-align: right;\">\n",
       "      <th></th>\n",
       "      <th>Nombre</th>\n",
       "      <th>Envase</th>\n",
       "      <th>Capacidad</th>\n",
       "      <th>Fecha</th>\n",
       "      <th>Cantidad</th>\n",
       "    </tr>\n",
       "  </thead>\n",
       "  <tbody>\n",
       "    <tr>\n",
       "      <th>0</th>\n",
       "      <td>Stop</td>\n",
       "      <td>Botella</td>\n",
       "      <td>0.20</td>\n",
       "      <td>2005-10-21</td>\n",
       "      <td>240</td>\n",
       "    </tr>\n",
       "    <tr>\n",
       "      <th>1</th>\n",
       "      <td>Stop</td>\n",
       "      <td>Botella</td>\n",
       "      <td>0.33</td>\n",
       "      <td>2005-10-21</td>\n",
       "      <td>48</td>\n",
       "    </tr>\n",
       "    <tr>\n",
       "      <th>2</th>\n",
       "      <td>Las Vegas</td>\n",
       "      <td>Lata</td>\n",
       "      <td>0.33</td>\n",
       "      <td>2005-10-22</td>\n",
       "      <td>60</td>\n",
       "    </tr>\n",
       "    <tr>\n",
       "      <th>3</th>\n",
       "      <td>Otra Ronda</td>\n",
       "      <td>Barril</td>\n",
       "      <td>60.00</td>\n",
       "      <td>2005-10-22</td>\n",
       "      <td>4</td>\n",
       "    </tr>\n",
       "  </tbody>\n",
       "</table>\n",
       "</div>"
      ],
      "text/plain": [
       "       Nombre   Envase  Capacidad       Fecha  Cantidad\n",
       "0        Stop  Botella       0.20  2005-10-21       240\n",
       "1        Stop  Botella       0.33  2005-10-21        48\n",
       "2   Las Vegas     Lata       0.33  2005-10-22        60\n",
       "3  Otra Ronda   Barril      60.00  2005-10-22         4"
      ]
     },
     "execution_count": 31,
     "metadata": {},
     "output_type": "execute_result"
    }
   ],
   "source": [
    "#3\n",
    "query = '''\n",
    "SELECT\n",
    "bares.nombre,\n",
    "cervezas.envase,\n",
    "cervezas.capacidad,\n",
    "reparto.Fecha,\n",
    "reparto.Cantidad\n",
    "FROM reparto\n",
    "INNER JOIN empleados\n",
    "ON reparto.CodE = empleados.CodE\n",
    "INNER JOIN bares\n",
    "ON reparto.CodB = bares.CodB\n",
    "INNER JOIN cervezas\n",
    "ON cervezas.CodC = reparto.CodC\n",
    "WHERE empleados.Nombre = 'Prudencio Caminero'\n",
    "'''\n",
    "sql_query(query)"
   ]
  },
  {
   "cell_type": "code",
   "execution_count": 32,
   "id": "2a176819-90fa-4ed1-ae8e-0ce753cf01ce",
   "metadata": {},
   "outputs": [
    {
     "data": {
      "text/html": [
       "<div>\n",
       "<style scoped>\n",
       "    .dataframe tbody tr th:only-of-type {\n",
       "        vertical-align: middle;\n",
       "    }\n",
       "\n",
       "    .dataframe tbody tr th {\n",
       "        vertical-align: top;\n",
       "    }\n",
       "\n",
       "    .dataframe thead th {\n",
       "        text-align: right;\n",
       "    }\n",
       "</style>\n",
       "<table border=\"1\" class=\"dataframe\">\n",
       "  <thead>\n",
       "    <tr style=\"text-align: right;\">\n",
       "      <th></th>\n",
       "      <th>Nombre</th>\n",
       "      <th>Envase</th>\n",
       "      <th>Capacidad</th>\n",
       "    </tr>\n",
       "  </thead>\n",
       "  <tbody>\n",
       "    <tr>\n",
       "      <th>0</th>\n",
       "      <td>Stop</td>\n",
       "      <td>Botella</td>\n",
       "      <td>0.20</td>\n",
       "    </tr>\n",
       "    <tr>\n",
       "      <th>1</th>\n",
       "      <td>Stop</td>\n",
       "      <td>Botella</td>\n",
       "      <td>0.33</td>\n",
       "    </tr>\n",
       "    <tr>\n",
       "      <th>2</th>\n",
       "      <td>Otra Ronda</td>\n",
       "      <td>Botella</td>\n",
       "      <td>0.20</td>\n",
       "    </tr>\n",
       "    <tr>\n",
       "      <th>3</th>\n",
       "      <td>Otra Ronda</td>\n",
       "      <td>Botella</td>\n",
       "      <td>0.33</td>\n",
       "    </tr>\n",
       "  </tbody>\n",
       "</table>\n",
       "</div>"
      ],
      "text/plain": [
       "       Nombre   Envase  Capacidad\n",
       "0        Stop  Botella       0.20\n",
       "1        Stop  Botella       0.33\n",
       "2  Otra Ronda  Botella       0.20\n",
       "3  Otra Ronda  Botella       0.33"
      ]
     },
     "execution_count": 32,
     "metadata": {},
     "output_type": "execute_result"
    }
   ],
   "source": [
    "#4\n",
    "query = '''\n",
    "SELECT b.nombre, c.envase, c.capacidad\n",
    "\n",
    "FROM bares b\n",
    "INNER JOIN reparto r\n",
    "ON b.Codb = r.Codb\n",
    "INNER JOIN cervezas c\n",
    "ON r.Codc = c.Codc\n",
    "WHERE c.envase = 'Botella' AND c.capacidad IN (0.2, 0.33)\n",
    "\n",
    "'''\n",
    "sql_query(query)"
   ]
  },
  {
   "cell_type": "code",
   "execution_count": null,
   "id": "327dd478-0541-4e49-9941-b2faab50c528",
   "metadata": {},
   "outputs": [],
   "source": [
    "#5\n",
    "query = '''\n",
    "SELECT e.nombre as nombreE, b.nombre as nombreB, c.envase\n",
    "\n",
    "FROM bares b\n",
    "INNER JOIN reparto r\n",
    "ON b.Codb = r.Codb\n",
    "INNER JOIN cervezas c\n",
    "ON r.Codc = c.Codc\n",
    "INNER JOIN empleadoS e\n",
    "ON e.CodE = r.CodE\n",
    "WHERE c.envase = 'Botella' AND b.nombre  IN (\"Stop\", \"Las Vegas\")\n",
    "\n",
    "'''\n",
    "sql_query(query)"
   ]
  },
  {
   "cell_type": "code",
   "execution_count": null,
   "id": "9a05e91e-9b11-4953-9e53-86a53544c71d",
   "metadata": {},
   "outputs": [],
   "source": [
    "#5 \n",
    "query = '''\n",
    "SELECT e.nombre as nombreE, b.nombre as nombreB, c.envase\n",
    "\n",
    "FROM bares b\n",
    "INNER JOIN reparto r\n",
    "ON b.Codb = r.Codb\n",
    "INNER JOIN cervezas c\n",
    "ON r.Codc = c.Codc\n",
    "INNER JOIN empleadoS e\n",
    "ON e.CodE = r.CodE\n",
    "\n",
    "GROUP BY e.nombre \n",
    "HAVING c.envase = 'Botella'"
   ]
  },
  {
   "cell_type": "code",
   "execution_count": 37,
   "id": "e9814519-30ea-4e41-acd7-ff0652827315",
   "metadata": {},
   "outputs": [
    {
     "data": {
      "text/html": [
       "<div>\n",
       "<style scoped>\n",
       "    .dataframe tbody tr th:only-of-type {\n",
       "        vertical-align: middle;\n",
       "    }\n",
       "\n",
       "    .dataframe tbody tr th {\n",
       "        vertical-align: top;\n",
       "    }\n",
       "\n",
       "    .dataframe thead th {\n",
       "        text-align: right;\n",
       "    }\n",
       "</style>\n",
       "<table border=\"1\" class=\"dataframe\">\n",
       "  <thead>\n",
       "    <tr style=\"text-align: right;\">\n",
       "      <th></th>\n",
       "      <th>nombreE</th>\n",
       "      <th>nombreB</th>\n",
       "      <th>Localidad</th>\n",
       "      <th>Fecha</th>\n",
       "    </tr>\n",
       "  </thead>\n",
       "  <tbody>\n",
       "    <tr>\n",
       "      <th>0</th>\n",
       "      <td>Prudencio Caminero</td>\n",
       "      <td>Otra Ronda</td>\n",
       "      <td>La Esponja</td>\n",
       "      <td>2005-10-22</td>\n",
       "    </tr>\n",
       "    <tr>\n",
       "      <th>1</th>\n",
       "      <td>Vicente Merario</td>\n",
       "      <td>Otra Ronda</td>\n",
       "      <td>La Esponja</td>\n",
       "      <td>2005-10-23</td>\n",
       "    </tr>\n",
       "    <tr>\n",
       "      <th>2</th>\n",
       "      <td>Vicente Merario</td>\n",
       "      <td>Otra Ronda</td>\n",
       "      <td>La Esponja</td>\n",
       "      <td>2005-10-24</td>\n",
       "    </tr>\n",
       "    <tr>\n",
       "      <th>3</th>\n",
       "      <td>Valentin Siempre</td>\n",
       "      <td>Club Social</td>\n",
       "      <td>Las Ranas</td>\n",
       "      <td>2005-10-24</td>\n",
       "    </tr>\n",
       "    <tr>\n",
       "      <th>4</th>\n",
       "      <td>Valentin Siempre</td>\n",
       "      <td>Club Social</td>\n",
       "      <td>Las Ranas</td>\n",
       "      <td>2005-10-25</td>\n",
       "    </tr>\n",
       "  </tbody>\n",
       "</table>\n",
       "</div>"
      ],
      "text/plain": [
       "              nombreE      nombreB   Localidad       Fecha\n",
       "0  Prudencio Caminero   Otra Ronda  La Esponja  2005-10-22\n",
       "1     Vicente Merario   Otra Ronda  La Esponja  2005-10-23\n",
       "2     Vicente Merario   Otra Ronda  La Esponja  2005-10-24\n",
       "3    Valentin Siempre  Club Social   Las Ranas  2005-10-24\n",
       "4    Valentin Siempre  Club Social   Las Ranas  2005-10-25"
      ]
     },
     "execution_count": 37,
     "metadata": {},
     "output_type": "execute_result"
    }
   ],
   "source": [
    "#6\n",
    "query = '''\n",
    "SELECT \n",
    "e.nombre AS nombreE, b.nombre AS nombreB, b.localidad,  r.fecha\n",
    "--e.nombre, COUNT(distinct r.fecha) AS viajes\n",
    "FROM empleados e\n",
    "INNER JOIN reparto r\n",
    "ON e.CodE = r.CodE\n",
    "INNER JOIN bares b\n",
    "ON b.CodB = r.CodB\n",
    "WHERE b.localidad != 'Villa Botijo'\n",
    "\n",
    "--GROUP BY CodE\n",
    "--ORDER BY COUNT( DISTINCT Fecha) DESC\n",
    "\n",
    "'''\n",
    "sql_query(query)"
   ]
  },
  {
   "cell_type": "code",
   "execution_count": 41,
   "id": "58018cd2-7fb6-4329-b247-961cf7f890e5",
   "metadata": {},
   "outputs": [
    {
     "data": {
      "text/html": [
       "<div>\n",
       "<style scoped>\n",
       "    .dataframe tbody tr th:only-of-type {\n",
       "        vertical-align: middle;\n",
       "    }\n",
       "\n",
       "    .dataframe tbody tr th {\n",
       "        vertical-align: top;\n",
       "    }\n",
       "\n",
       "    .dataframe thead th {\n",
       "        text-align: right;\n",
       "    }\n",
       "</style>\n",
       "<table border=\"1\" class=\"dataframe\">\n",
       "  <thead>\n",
       "    <tr style=\"text-align: right;\">\n",
       "      <th></th>\n",
       "      <th>Nombre</th>\n",
       "      <th>viajes</th>\n",
       "    </tr>\n",
       "  </thead>\n",
       "  <tbody>\n",
       "    <tr>\n",
       "      <th>0</th>\n",
       "      <td>Prudencio Caminero</td>\n",
       "      <td>1</td>\n",
       "    </tr>\n",
       "    <tr>\n",
       "      <th>1</th>\n",
       "      <td>Vicente Merario</td>\n",
       "      <td>2</td>\n",
       "    </tr>\n",
       "    <tr>\n",
       "      <th>2</th>\n",
       "      <td>Valentin Siempre</td>\n",
       "      <td>2</td>\n",
       "    </tr>\n",
       "  </tbody>\n",
       "</table>\n",
       "</div>"
      ],
      "text/plain": [
       "               Nombre  viajes\n",
       "0  Prudencio Caminero       1\n",
       "1     Vicente Merario       2\n",
       "2    Valentin Siempre       2"
      ]
     },
     "execution_count": 41,
     "metadata": {},
     "output_type": "execute_result"
    }
   ],
   "source": [
    "query = '''\n",
    "SELECT \n",
    "-- e.nombre AS nombreE, b.nombre AS nombreB, b.localidad, count(distinct r.fecha)\n",
    "e.nombre,  count(distinct r.fecha) AS viajes\n",
    "FROM empleados e\n",
    "INNER JOIN reparto r\n",
    "ON e.CodE = r.CodE\n",
    "INNER JOIN bares b\n",
    "ON b.CodB = r.CodB\n",
    "\n",
    "GROUP BY e.CodE, b.localidad\n",
    "HAVING b.localidad != 'Villa Botijo'\n",
    "\n",
    "'''\n",
    "sql_query(query)"
   ]
  },
  {
   "cell_type": "code",
   "execution_count": null,
   "id": "2eca3af1-a5a6-470d-90bc-75989fca8c3c",
   "metadata": {},
   "outputs": [],
   "source": []
  },
  {
   "cell_type": "code",
   "execution_count": 39,
   "id": "81252167-20da-471d-af35-e96054d3d6c1",
   "metadata": {},
   "outputs": [
    {
     "data": {
      "text/html": [
       "<div>\n",
       "<style scoped>\n",
       "    .dataframe tbody tr th:only-of-type {\n",
       "        vertical-align: middle;\n",
       "    }\n",
       "\n",
       "    .dataframe tbody tr th {\n",
       "        vertical-align: top;\n",
       "    }\n",
       "\n",
       "    .dataframe thead th {\n",
       "        text-align: right;\n",
       "    }\n",
       "</style>\n",
       "<table border=\"1\" class=\"dataframe\">\n",
       "  <thead>\n",
       "    <tr style=\"text-align: right;\">\n",
       "      <th></th>\n",
       "      <th>Nombre</th>\n",
       "      <th>viajes</th>\n",
       "    </tr>\n",
       "  </thead>\n",
       "  <tbody>\n",
       "    <tr>\n",
       "      <th>0</th>\n",
       "      <td>Prudencio Caminero</td>\n",
       "      <td>1</td>\n",
       "    </tr>\n",
       "    <tr>\n",
       "      <th>1</th>\n",
       "      <td>Vicente Merario</td>\n",
       "      <td>2</td>\n",
       "    </tr>\n",
       "    <tr>\n",
       "      <th>2</th>\n",
       "      <td>Valentin Siempre</td>\n",
       "      <td>2</td>\n",
       "    </tr>\n",
       "  </tbody>\n",
       "</table>\n",
       "</div>"
      ],
      "text/plain": [
       "               Nombre  viajes\n",
       "0  Prudencio Caminero       1\n",
       "1     Vicente Merario       2\n",
       "2    Valentin Siempre       2"
      ]
     },
     "execution_count": 39,
     "metadata": {},
     "output_type": "execute_result"
    }
   ],
   "source": [
    "query = '''\n",
    "SELECT \n",
    "-- e.nombre AS nombreE, b.nombre AS nombreB, b.localidad, count(distinct r.fecha)\n",
    "e.nombre,  count(distinct r.fecha) AS viajes\n",
    "FROM empleados e\n",
    "INNER JOIN reparto r\n",
    "ON e.CodE = r.CodE\n",
    "INNER JOIN bares b\n",
    "ON b.CodB = r.CodB\n",
    "WHERE b.localidad != 'Villa Botijo'\n",
    "GROUP BY e.CodE\n",
    "\n",
    "'''\n",
    "sql_query(query)"
   ]
  },
  {
   "cell_type": "code",
   "execution_count": 1,
   "id": "4478fcbf",
   "metadata": {},
   "outputs": [
    {
     "ename": "NameError",
     "evalue": "name 'sql_query' is not defined",
     "output_type": "error",
     "traceback": [
      "\u001b[1;31m---------------------------------------------------------------------------\u001b[0m",
      "\u001b[1;31mNameError\u001b[0m                                 Traceback (most recent call last)",
      "\u001b[1;32m~\\AppData\\Local\\Temp/ipykernel_9104/993969185.py\u001b[0m in \u001b[0;36m<module>\u001b[1;34m\u001b[0m\n\u001b[0;32m      9\u001b[0m \u001b[0mGROUP\u001b[0m \u001b[0mBY\u001b[0m \u001b[0me\u001b[0m\u001b[1;33m.\u001b[0m\u001b[0mnombre\u001b[0m\u001b[1;33m,\u001b[0m \u001b[0mb\u001b[0m\u001b[1;33m.\u001b[0m\u001b[0mnombre\u001b[0m\u001b[1;33m\u001b[0m\u001b[1;33m\u001b[0m\u001b[0m\n\u001b[0;32m     10\u001b[0m '''\n\u001b[1;32m---> 11\u001b[1;33m \u001b[0msql_query\u001b[0m\u001b[1;33m(\u001b[0m\u001b[0mquery\u001b[0m\u001b[1;33m)\u001b[0m\u001b[1;33m\u001b[0m\u001b[1;33m\u001b[0m\u001b[0m\n\u001b[0m",
      "\u001b[1;31mNameError\u001b[0m: name 'sql_query' is not defined"
     ]
    }
   ],
   "source": [
    "6#\n",
    "query = '''\n",
    "SELECT  e.nombre AS nombreE, b.nombre AS nombreB, b.localidad, count(distinct r.fecha)\n",
    "FROM empleados e\n",
    "INNER JOIN reparto r\n",
    "ON e.CodE = r.CodE\n",
    "INNER JOIN bares b\n",
    "ON b.CodB = r.CodB\n",
    "WHERE localidad != 'Villa Botijo'\n",
    "GROUP BY e.nombre, b.nombre\n",
    "'''\n",
    "sql_query(query)"
   ]
  },
  {
   "cell_type": "code",
   "execution_count": null,
   "id": "3294d19e-75ae-4450-abdb-f5479a180944",
   "metadata": {},
   "outputs": [],
   "source": [
    "query = '''\n",
    "SELECT e.nombre as nombreE, c.envase\n",
    "\n",
    "FROM bares b\n",
    "INNER JOIN reparto r\n",
    "ON b.Codb = r.Codb\n",
    "INNER JOIN cervezas c\n",
    "ON r.Codc = c.Codc\n",
    "INNER JOIN empleadoS e\n",
    "ON e.CodE = r.CodE\n",
    "WHERE c.envase = 'Botella' AND b.nombre = \"Las Vegas\"\n",
    "\n",
    "INTERSECT\n",
    "\n",
    "SELECT e.nombre as nombreE, c.envase\n",
    "\n",
    "FROM bares b\n",
    "INNER JOIN reparto r\n",
    "ON b.Codb = r.Codb\n",
    "INNER JOIN cervezas c\n",
    "ON r.Codc = c.Codc\n",
    "INNER JOIN empleadoS e\n",
    "ON e.CodE = r.CodE\n",
    "WHERE c.envase = 'Botella' AND b.nombre = \"Stop\"\n",
    "\n",
    "'''\n",
    "sql_query(query)"
   ]
  },
  {
   "cell_type": "code",
   "execution_count": 42,
   "id": "3a73b70b-3dbc-4b2f-be51-e8b85af99791",
   "metadata": {},
   "outputs": [
    {
     "data": {
      "text/html": [
       "<div>\n",
       "<style scoped>\n",
       "    .dataframe tbody tr th:only-of-type {\n",
       "        vertical-align: middle;\n",
       "    }\n",
       "\n",
       "    .dataframe tbody tr th {\n",
       "        vertical-align: top;\n",
       "    }\n",
       "\n",
       "    .dataframe thead th {\n",
       "        text-align: right;\n",
       "    }\n",
       "</style>\n",
       "<table border=\"1\" class=\"dataframe\">\n",
       "  <thead>\n",
       "    <tr style=\"text-align: right;\">\n",
       "      <th></th>\n",
       "      <th>nombre</th>\n",
       "      <th>localidad</th>\n",
       "      <th>maximo</th>\n",
       "    </tr>\n",
       "  </thead>\n",
       "  <tbody>\n",
       "    <tr>\n",
       "      <th>0</th>\n",
       "      <td>Otra Ronda</td>\n",
       "      <td>La Esponja</td>\n",
       "      <td>480</td>\n",
       "    </tr>\n",
       "  </tbody>\n",
       "</table>\n",
       "</div>"
      ],
      "text/plain": [
       "       nombre   localidad  maximo\n",
       "0  Otra Ronda  La Esponja     480"
      ]
     },
     "execution_count": 42,
     "metadata": {},
     "output_type": "execute_result"
    }
   ],
   "source": [
    "# 7\n",
    "query = '''\n",
    "SELECT t.nombre, t.localidad, max(t.maximo) AS maximo\n",
    "FROM\n",
    "(SELECT \n",
    "b.nombre, b.localidad, max(r.cantidad * c.capacidad) as maximo\n",
    "\n",
    "FROM cervezas c\n",
    "INNER JOIN reparto r\n",
    "ON c.CodC = r.CodC\n",
    "INNER JOIN bares b\n",
    "ON b.CodB = r.CodB\n",
    "\n",
    "GROUP BY b.nombre, b.localidad) t\n",
    "\n",
    "\n",
    "'''\n",
    "sql_query(query)\n"
   ]
  },
  {
   "cell_type": "code",
   "execution_count": 43,
   "id": "ca3eb4b2-606c-4b9e-814b-9a95fa9e91d0",
   "metadata": {},
   "outputs": [
    {
     "data": {
      "text/html": [
       "<div>\n",
       "<style scoped>\n",
       "    .dataframe tbody tr th:only-of-type {\n",
       "        vertical-align: middle;\n",
       "    }\n",
       "\n",
       "    .dataframe tbody tr th {\n",
       "        vertical-align: top;\n",
       "    }\n",
       "\n",
       "    .dataframe thead th {\n",
       "        text-align: right;\n",
       "    }\n",
       "</style>\n",
       "<table border=\"1\" class=\"dataframe\">\n",
       "  <thead>\n",
       "    <tr style=\"text-align: right;\">\n",
       "      <th></th>\n",
       "      <th>Nombre</th>\n",
       "    </tr>\n",
       "  </thead>\n",
       "  <tbody>\n",
       "    <tr>\n",
       "      <th>0</th>\n",
       "      <td>Stop</td>\n",
       "    </tr>\n",
       "    <tr>\n",
       "      <th>1</th>\n",
       "      <td>Otra Ronda</td>\n",
       "    </tr>\n",
       "  </tbody>\n",
       "</table>\n",
       "</div>"
      ],
      "text/plain": [
       "       Nombre\n",
       "0        Stop\n",
       "1  Otra Ronda"
      ]
     },
     "execution_count": 43,
     "metadata": {},
     "output_type": "execute_result"
    }
   ],
   "source": [
    "#8\n",
    "query = '''\n",
    "SELECT \n",
    "DISTINCT b.nombre\n",
    "\n",
    "FROM bares b\n",
    "INNER JOIN reparto r\n",
    "ON b.CodB= r.CodB\n",
    "INNER JOIN cervezas c\n",
    "ON c.CodC = r.CodC\n",
    "WHERE c.envase = 'Botella' AND c.Capacidad <1\n",
    "\n",
    "'''\n",
    "sql_query(query)"
   ]
  },
  {
   "cell_type": "code",
   "execution_count": null,
   "id": "57ad9adb-2e35-495b-bdaa-e2fa17cfabb1",
   "metadata": {},
   "outputs": [],
   "source": [
    "query9 = '''\n",
    "SELECT t.Sueldo*1.05, MAX(t.maximo) ,t.Nombre\n",
    "FROM (SELECT e.Sueldo, COUNT(DISTINCT r.Fecha) as maximo, e.Nombre\n",
    "    FROM empleados as e\n",
    "    INNER JOIN reparto as r\n",
    "    ON e.CodE = r.CodE\n",
    "    GROUP BY e.Nombre) t\n",
    "'''\n",
    "sql_query(query9)"
   ]
  },
  {
   "cell_type": "code",
   "execution_count": null,
   "id": "569c6abc-aea4-4e95-80ad-210d655dced7",
   "metadata": {},
   "outputs": [],
   "source": [
    "query = '''\n",
    "UPDATE empleados\n",
    "SET sueldo = sueldo * 1.05\n",
    "WHERE CodE IN (\n",
    "SELECT \n",
    "CodE\n",
    "FROM reparto\n",
    "GROUP BY CodE\n",
    "ORDER BY COUNT( DISTINCT Fecha) DESC LIMIT 1)\n",
    "'''\n",
    "crsr.execute(query)"
   ]
  },
  {
   "cell_type": "code",
   "execution_count": 59,
   "id": "4a3c6ec0-1d01-4559-9587-cf9d9d7c75d1",
   "metadata": {},
   "outputs": [
    {
     "data": {
      "text/html": [
       "<div>\n",
       "<style scoped>\n",
       "    .dataframe tbody tr th:only-of-type {\n",
       "        vertical-align: middle;\n",
       "    }\n",
       "\n",
       "    .dataframe tbody tr th {\n",
       "        vertical-align: top;\n",
       "    }\n",
       "\n",
       "    .dataframe thead th {\n",
       "        text-align: right;\n",
       "    }\n",
       "</style>\n",
       "<table border=\"1\" class=\"dataframe\">\n",
       "  <thead>\n",
       "    <tr style=\"text-align: right;\">\n",
       "      <th></th>\n",
       "      <th>CodE</th>\n",
       "    </tr>\n",
       "  </thead>\n",
       "  <tbody>\n",
       "    <tr>\n",
       "      <th>0</th>\n",
       "      <td>2</td>\n",
       "    </tr>\n",
       "  </tbody>\n",
       "</table>\n",
       "</div>"
      ],
      "text/plain": [
       "  CodE\n",
       "0    2"
      ]
     },
     "execution_count": 59,
     "metadata": {},
     "output_type": "execute_result"
    }
   ],
   "source": [
    "query = '''\n",
    "\n",
    "SELECT \n",
    "CodE\n",
    "FROM reparto\n",
    "GROUP BY CodE\n",
    "ORDER BY COUNT( DISTINCT Fecha) DESC LIMIT 1\n",
    "'''\n",
    "sql_query(query)"
   ]
  },
  {
   "cell_type": "code",
   "execution_count": null,
   "id": "366b2ff4-a41a-4381-bef6-f574fdeb6c79",
   "metadata": {},
   "outputs": [],
   "source": [
    "connection.commit()\n",
    "connection.close()"
   ]
  }
 ],
 "metadata": {
  "kernelspec": {
   "display_name": "Python 3 (ipykernel)",
   "language": "python",
   "name": "python3"
  },
  "language_info": {
   "codemirror_mode": {
    "name": "ipython",
    "version": 3
   },
   "file_extension": ".py",
   "mimetype": "text/x-python",
   "name": "python",
   "nbconvert_exporter": "python",
   "pygments_lexer": "ipython3",
   "version": "3.9.7"
  }
 },
 "nbformat": 4,
 "nbformat_minor": 5
}
